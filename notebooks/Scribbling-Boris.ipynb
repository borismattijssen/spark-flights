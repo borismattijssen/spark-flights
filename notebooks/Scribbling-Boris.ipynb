{
 "cells": [
  {
   "cell_type": "code",
   "execution_count": 1,
   "metadata": {},
   "outputs": [],
   "source": [
    "import findspark\n",
    "findspark.init()\n",
    "import pyspark\n",
    "from pyspark.sql import SparkSession\n",
    "\n",
    "spark = SparkSession \\\n",
    "    .builder \\\n",
    "    .appName(\"Python Spark SQL basic example\") \\\n",
    "    .getOrCreate()\n"
   ]
  },
  {
   "cell_type": "code",
   "execution_count": 29,
   "metadata": {},
   "outputs": [],
   "source": [
    "import matplotlib.pyplot as plt\n",
    "import pandas as pd\n",
    "import numpy as np"
   ]
  },
  {
   "cell_type": "code",
   "execution_count": 11,
   "metadata": {},
   "outputs": [],
   "source": [
    "df_small = spark.read.csv(\"../data/2007_small.csv\",header=True);\n",
    "df_big = spark.read.csv(\"../data/2007.csv\",header=True);"
   ]
  },
  {
   "cell_type": "code",
   "execution_count": 61,
   "metadata": {},
   "outputs": [],
   "source": [
    "df_small = df_small \\\n",
    "    .filter(df_small.ArrDelay != \"NA\") \\\n",
    "    .filter(df_small.DepTime != \"NA\") \\\n",
    "    .filter(df_small.CRSDepTime != \"NA\") \\\n",
    "    .filter(df_small.CRSArrTime != \"NA\") \\\n",
    "    .withColumn('ArrDelay_tmp', df_small.ArrDelay.cast('float')) \\\n",
    "    .drop('ArrDelay') \\\n",
    "    .withColumnRenamed('ArrDelay_tmp', 'ArrDelay') \\\n",
    "    .withColumn('DepDelay_tmp', df_small.DepDelay.cast('float')) \\\n",
    "    .drop('DepDelay') \\\n",
    "    .withColumnRenamed('DepDelay_tmp', 'DepDelay')\n",
    "\n",
    "df_big = df_big \\\n",
    "    .filter(df_big.ArrDelay != \"NA\") \\\n",
    "    .filter(df_big.DepTime != \"NA\") \\\n",
    "    .filter(df_big.CRSDepTime != \"NA\") \\\n",
    "    .filter(df_big.CRSArrTime != \"NA\") \\\n",
    "    .withColumn('ArrDelay_tmp', df_big.ArrDelay.cast('float')) \\\n",
    "    .drop('ArrDelay') \\\n",
    "    .withColumnRenamed('ArrDelay_tmp', 'ArrDelay') \\\n",
    "    .withColumn('DepDelay_tmp', df_big.DepDelay.cast('float')) \\\n",
    "    .drop('DepDelay') \\\n",
    "    .withColumnRenamed('DepDelay_tmp', 'DepDelay')"
   ]
  },
  {
   "cell_type": "code",
   "execution_count": 41,
   "metadata": {},
   "outputs": [],
   "source": [
    "df_small.createOrReplaceTempView(\"df_small\")\n",
    "df_big.createOrReplaceTempView(\"df_big\")"
   ]
  },
  {
   "cell_type": "code",
   "execution_count": 27,
   "metadata": {},
   "outputs": [],
   "source": [
    "ad = pd.to_numeric(df_big.select(\"ArrDelay\").filter(df_big.ArrDelay != \"NA\").toPandas()['ArrDelay'])"
   ]
  },
  {
   "cell_type": "code",
   "execution_count": 31,
   "metadata": {},
   "outputs": [
    {
     "data": {
      "text/plain": [
       "{'whiskers': [<matplotlib.lines.Line2D at 0x115c7a518>,\n",
       "  <matplotlib.lines.Line2D at 0x115c7a860>],\n",
       " 'caps': [<matplotlib.lines.Line2D at 0x115c7aba8>,\n",
       "  <matplotlib.lines.Line2D at 0x115c7aef0>],\n",
       " 'boxes': [<matplotlib.lines.Line2D at 0x115c7a128>],\n",
       " 'medians': [<matplotlib.lines.Line2D at 0x115c7afd0>],\n",
       " 'fliers': [<matplotlib.lines.Line2D at 0x1181c65c0>],\n",
       " 'means': []}"
      ]
     },
     "execution_count": 31,
     "metadata": {},
     "output_type": "execute_result"
    },
    {
     "data": {
      "image/png": "[encoded data removed]",
      "text/plain": [
       "<Figure size 432x288 with 1 Axes>"
      ]
     },
     "metadata": {
      "needs_background": "light"
     },
     "output_type": "display_data"
    }
   ],
   "source": [
    "plt.boxplot(ad)"
   ]
  },
  {
   "cell_type": "code",
   "execution_count": 47,
   "metadata": {},
   "outputs": [],
   "source": [
    "adg = spark.sql(\"select ArrDelay, count(*) from df_big where ArrDelay != 'NA' group by ArrDelay\").toPandas()"
   ]
  },
  {
   "cell_type": "code",
   "execution_count": 52,
   "metadata": {},
   "outputs": [
    {
     "data": {
      "text/plain": [
       "<matplotlib.collections.PathCollection at 0x11dc79a90>"
      ]
     },
     "execution_count": 52,
     "metadata": {},
     "output_type": "execute_result"
    },
    {
     "data": {
      "image/png": "[encoded data removed]",
      "text/plain": [
       "<Figure size 432x288 with 1 Axes>"
      ]
     },
     "metadata": {
      "needs_background": "light"
     },
     "output_type": "display_data"
    }
   ],
   "source": [
    "plt.scatter(pd.to_numeric(adg['ArrDelay']), adg['count(1)'])"
   ]
  },
  {
   "cell_type": "code",
   "execution_count": 55,
   "metadata": {},
   "outputs": [
    {
     "name": "stdout",
     "output_type": "stream",
     "text": [
      "10.19218057072105\n",
      "0.0\n"
     ]
    }
   ],
   "source": [
    "print(np.mean(ad))\n",
    "print(np.median(ad))"
   ]
  },
  {
   "cell_type": "code",
   "execution_count": 62,
   "metadata": {},
   "outputs": [
    {
     "data": {
      "text/plain": [
       "0.9315028109819367"
      ]
     },
     "execution_count": 62,
     "metadata": {},
     "output_type": "execute_result"
    }
   ],
   "source": [
    "df_big.corr('DepDelay', 'ArrDelay')"
   ]
  },
  {
   "cell_type": "code",
   "execution_count": null,
   "metadata": {},
   "outputs": [],
   "source": []
  }
 ],
 "metadata": {
  "kernelspec": {
   "display_name": "Python 3",
   "language": "python",
   "name": "python3"
  },
  "language_info": {
   "codemirror_mode": {
    "name": "ipython",
    "version": 3
   },
   "file_extension": ".py",
   "mimetype": "text/x-python",
   "name": "python",
   "nbconvert_exporter": "python",
   "pygments_lexer": "ipython3",
   "version": "3.7.0"
  }
 },
 "nbformat": 4,
 "nbformat_minor": 2
}
